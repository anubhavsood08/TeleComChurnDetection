{
 "cells": [
  {
   "cell_type": "code",
   "execution_count": 38,
   "metadata": {},
   "outputs": [],
   "source": [
    "import pandas as pd \n",
    "import numpy as np "
   ]
  },
  {
   "cell_type": "code",
   "execution_count": 39,
   "metadata": {},
   "outputs": [
    {
     "name": "stdout",
     "output_type": "stream",
     "text": [
      "   A  B\n",
      "0  1  4\n",
      "1  2  5\n",
      "2  3  6\n"
     ]
    }
   ],
   "source": [
    "df = pd.DataFrame({'A': [1, 2, 3], 'B': [4, 5, 6]}) \n",
    "print(df)\n"
   ]
  },
  {
   "cell_type": "code",
   "execution_count": 40,
   "metadata": {},
   "outputs": [
    {
     "name": "stdout",
     "output_type": "stream",
     "text": [
      "month\n",
      "1       496\n",
      "2      1274\n",
      "3      2325\n",
      "4      3165\n",
      "5      4216\n",
      "6      4995\n",
      "7      6107\n",
      "8      7068\n",
      "9      7755\n",
      "10     8959\n",
      "11     9585\n",
      "12    10850\n",
      "Name: value, dtype: int64\n"
     ]
    }
   ],
   "source": [
    "# Sample DataFrame\n",
    "data = {\n",
    "    'date': pd.date_range(start='2023-01-01', periods=365, freq='D'),\n",
    "    'value': range(1, 366)\n",
    "}\n",
    "df = pd.DataFrame(data)\n",
    "\n",
    "# Extract the month from the date\n",
    "df['month'] = df['date'].dt.month\n",
    "\n",
    "# Group by month and calculate the sum of values in each month\n",
    "grouped = df.groupby('month')['value'].sum()\n",
    "\n",
    "# Print the grouped data\n",
    "print(grouped)\n",
    "# df"
   ]
  },
  {
   "cell_type": "code",
   "execution_count": 41,
   "metadata": {},
   "outputs": [
    {
     "name": "stdout",
     "output_type": "stream",
     "text": [
      "batch\n",
      "1-12      66\n",
      "13-24    210\n",
      "25-36    354\n",
      "37-48    498\n",
      "Name: values, dtype: int64\n"
     ]
    }
   ],
   "source": [
    "data = {'values': range(1, 51)}  # Numbers from 1 to 50\n",
    "df = pd.DataFrame(data)\n",
    "\n",
    "# Define bins for grouping data into batches of 1-12\n",
    "bins = range(0, 52, 12)\n",
    "labels = [f'{i+1}-{i+12}' for i in bins[:-1]]\n",
    "\n",
    "# Group data into bins\n",
    "df['batch'] = pd.cut(df['values'], bins=bins, labels=labels, right=False)\n",
    "\n",
    "# Group by batch and calculate the sum of values in each batch\n",
    "grouped = df.groupby('batch')['values'].sum()\n",
    "\n",
    "# Print the grouped data\n",
    "print(grouped)"
   ]
  },
  {
   "cell_type": "code",
   "execution_count": 42,
   "metadata": {},
   "outputs": [
    {
     "name": "stdout",
     "output_type": "stream",
     "text": [
      "  customerID  gender_Female  gender_Male  Partner_No  Partner_Yes   \n",
      "0       C001          False         True       False         True  \\\n",
      "1       C002           True        False        True        False   \n",
      "2       C003           True        False       False         True   \n",
      "3       C004          False         True        True        False   \n",
      "4       C005           True        False       False         True   \n",
      "\n",
      "   Dependents_No  Dependents_Yes  \n",
      "0           True           False  \n",
      "1           True           False  \n",
      "2          False            True  \n",
      "3          False            True  \n",
      "4           True           False  \n"
     ]
    }
   ],
   "source": [
    "data = {\n",
    "    'customerID': ['C001', 'C002', 'C003', 'C004', 'C005'],\n",
    "    'gender': ['Male', 'Female', 'Female', 'Male', 'Female'],\n",
    "    'Partner': ['Yes', 'No', 'Yes', 'No', 'Yes'],\n",
    "    'Dependents': ['No', 'No', 'Yes', 'Yes', 'No']\n",
    "}\n",
    "df = pd.DataFrame(data)\n",
    "\n",
    "# Convert categorical variables to dummy variables\n",
    "df_dummies = pd.get_dummies(df, columns=['gender', 'Partner', 'Dependents'])\n",
    "\n",
    "print(df_dummies)"
   ]
  },
  {
   "cell_type": "code",
   "execution_count": null,
   "metadata": {},
   "outputs": [],
   "source": []
  },
  {
   "cell_type": "code",
   "execution_count": 43,
   "metadata": {},
   "outputs": [
    {
     "name": "stdout",
     "output_type": "stream",
     "text": [
      "5107    47\n",
      "3814    72\n",
      "6736    67\n",
      "855     62\n",
      "958     25\n",
      "3617    18\n",
      "1268    59\n",
      "547     65\n",
      "5233     8\n",
      "372     24\n",
      "2060    71\n",
      "3190    66\n",
      "4523    10\n",
      "5515    18\n",
      "5099    11\n",
      "6811     1\n",
      "1031    27\n",
      "1032     8\n",
      "383      1\n",
      "6770     4\n",
      "5783     1\n",
      "853      5\n",
      "2680    71\n",
      "1705    55\n",
      "4218     7\n",
      "2975     3\n",
      "6157     3\n",
      "3863    17\n",
      "1304    15\n",
      "43      63\n",
      "4143    25\n",
      "6991     8\n",
      "2851    64\n",
      "1452    52\n",
      "2873    25\n",
      "5342    37\n",
      "5881    34\n",
      "5057     9\n",
      "6504     3\n",
      "4918    51\n",
      "375     43\n",
      "5927    51\n",
      "4586    72\n",
      "4898     3\n",
      "6864     3\n",
      "3086    17\n",
      "444     36\n",
      "2083     1\n",
      "4188    28\n",
      "3302    31\n",
      "Name: tenure, dtype: int64\n"
     ]
    }
   ],
   "source": [
    "lf =pd.read_csv('E:\\TeleComChurnDetection\\WA_Fn-UseC_-Telco-Customer-Churn.csv')\n",
    "print(lf.tenure.sample(50))\n"
   ]
  },
  {
   "cell_type": "code",
   "execution_count": 44,
   "metadata": {},
   "outputs": [],
   "source": [
    "first_telc = lf.drop(columns=['Churn','customerID'],axis=1)"
   ]
  },
  {
   "cell_type": "code",
   "execution_count": 45,
   "metadata": {},
   "outputs": [],
   "source": [
    "first_telc.to_csv('first_telc.csv')"
   ]
  }
 ],
 "metadata": {
  "kernelspec": {
   "display_name": "Python 3",
   "language": "python",
   "name": "python3"
  },
  "language_info": {
   "codemirror_mode": {
    "name": "ipython",
    "version": 3
   },
   "file_extension": ".py",
   "mimetype": "text/x-python",
   "name": "python",
   "nbconvert_exporter": "python",
   "pygments_lexer": "ipython3",
   "version": "3.9.0"
  }
 },
 "nbformat": 4,
 "nbformat_minor": 2
}
